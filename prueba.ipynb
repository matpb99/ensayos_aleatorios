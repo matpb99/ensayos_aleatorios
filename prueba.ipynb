{
 "cells": [
  {
   "cell_type": "code",
   "execution_count": 1,
   "metadata": {},
   "outputs": [],
   "source": [
    "import os\n",
    "import random\n",
    "from PIL import Image\n",
    "from reportlab.pdfgen import canvas\n",
    "from reportlab.lib.pagesizes import letter"
   ]
  },
  {
   "cell_type": "code",
   "execution_count": 2,
   "metadata": {},
   "outputs": [
    {
     "data": {
      "text/plain": [
       "(612.0, 792.0)"
      ]
     },
     "execution_count": 2,
     "metadata": {},
     "output_type": "execute_result"
    }
   ],
   "source": [
    "letter"
   ]
  },
  {
   "cell_type": "code",
   "execution_count": 215,
   "metadata": {},
   "outputs": [],
   "source": [
    "def get_random_elements(root, n, seed=None):\n",
    "\n",
    "    random_elements_per_category, categories_list = [],[]\n",
    "\n",
    "    if seed == None:\n",
    "        seed = \"\".join([random.choice(['1','2','3','4','5','6','7','8','9','0']) for _ in range(6)])\n",
    "        random.seed(seed)\n",
    "    else:\n",
    "        random.seed(seed)\n",
    "\n",
    "    categories_folders = [os.path.join(root, d) for d in os.listdir(root) if os.path.isdir(os.path.join(root, d))]\n",
    "\n",
    "    for category_folder in categories_folders:\n",
    "        category = os.path.basename(category_folder)\n",
    "        category_elements = [os.path.join(category_folder, file) for file in os.listdir(category_folder) if os.path.isfile(os.path.join(category_folder, file))]\n",
    "        category_elements_images = [img for img in category_elements if img.lower().endswith(('.png', '.jpg', '.jpeg'))]\n",
    "\n",
    "        categories_list += [category]\n",
    "        random_elements_per_category += [random.sample(category_elements_images, n)]\n",
    "    \n",
    "    return random_elements_per_category, categories_list, seed"
   ]
  },
  {
   "cell_type": "code",
   "execution_count": 216,
   "metadata": {},
   "outputs": [],
   "source": [
    "def get_resize_data(image_list):\n",
    "    MAX_WIDTH = 612 - (30*2)\n",
    "    MAX_HEIGHT = 500\n",
    "    new_size_images_list = []\n",
    "\n",
    "    for img in image_list:\n",
    "        image = Image.open(img)\n",
    "        if image.height > MAX_HEIGHT or image.width > MAX_WIDTH:\n",
    "            ratio = min(MAX_WIDTH / image.width, MAX_HEIGHT / image.height)\n",
    "            new_height = int(image.height * ratio)\n",
    "        else:\n",
    "            new_height = image.height\n",
    "\n",
    "        new_size_images_list.append(new_height)\n",
    "    \n",
    "    return new_size_images_list"
   ]
  },
  {
   "cell_type": "code",
   "execution_count": 217,
   "metadata": {},
   "outputs": [],
   "source": [
    "def get_resize_image(img):\n",
    "    MAX_WIDTH = 612 - (30*2)\n",
    "    MAX_HEIGHT = 500\n",
    "    image = Image.open(img)\n",
    "    #image = ImageOps.exif_transpose(image) \n",
    "    if image.height > MAX_HEIGHT or image.width > MAX_WIDTH:\n",
    "        ratio = min(MAX_WIDTH / image.width, MAX_HEIGHT / image.height)\n",
    "        new_width = int(image.width * ratio)\n",
    "        new_height = int(image.height * ratio)\n",
    "    else:\n",
    "        new_width, new_height = image.width, image.height\n",
    "    return new_width, new_height"
   ]
  },
  {
   "cell_type": "code",
   "execution_count": 218,
   "metadata": {},
   "outputs": [],
   "source": [
    "def optimize_layout(left_nodes, actual_page, actual_layout, final_layout_candidates):\n",
    "    ITEMS_PER_PAGE = 3\n",
    "    MARGIN_ITEMS = 25\n",
    "    MAX_HEIGHT = 792 - 25 - MARGIN_ITEMS\n",
    "\n",
    "    if len(left_nodes)==0:\n",
    "        final_layout_candidates.append(actual_layout)\n",
    "    \n",
    "    else:\n",
    "        #print('revisando el actual page', actual_page)\n",
    "        #print('nodos faltantes', left_nodes)\n",
    "        #size_left_nodes = [Image.open(img).height for img in left_nodes]\n",
    "        size_left_nodes = get_resize_data(left_nodes)\n",
    "        #size_actual_page = [Image.open(img).height for img in actual_page]\n",
    "        size_actual_page = get_resize_data(actual_page)\n",
    "        #print('size left nodes', size_left_nodes, 'size actual page', size_actual_page)\n",
    "\n",
    "        if len(actual_layout) == 0:\n",
    "            replace_flag = False\n",
    "        else:\n",
    "            actual_page = actual_layout[-1]\n",
    "            replace_flag = True\n",
    "\n",
    "        add_node_flag = False\n",
    "        for item_index in range(len(left_nodes)):\n",
    "            if sum(size_actual_page) + size_left_nodes[item_index] <= MAX_HEIGHT - (len(actual_page)*MARGIN_ITEMS) and len(actual_page)<=ITEMS_PER_PAGE-1:\n",
    "                #print('se puede agregar',left_nodes[item_index], 'en', actual_page,'porque', size_left_nodes[item_index], 'cae en', size_actual_page )  \n",
    "                actual_page += [left_nodes[item_index]]\n",
    "                #print('actual list queda', actual_page)\n",
    "                left_nodes.pop(left_nodes.index(left_nodes[item_index]))\n",
    "                #print('left nodes queda', left_nodes)\n",
    "                add_node_flag = True \n",
    "                break\n",
    "\n",
    "        if add_node_flag == True:\n",
    "            if replace_flag == True:\n",
    "                actual_layout[-1] = actual_page\n",
    "            else:\n",
    "                actual_layout.append(actual_page)\n",
    "        else:\n",
    "            #print('no se agregó el ningun nodo')\n",
    "            value = random.choice(left_nodes) \n",
    "            index = left_nodes.index(value)\n",
    "\n",
    "            actual_layout.append([value])\n",
    "            left_nodes.pop(index)\n",
    "            actual_page = [value]\n",
    "        \n",
    "        #print('actual layout queda', actual_layout)\n",
    "        #print()\n",
    "            \n",
    "        optimize_layout(left_nodes, actual_page, actual_layout, final_layout_candidates)"
   ]
  },
  {
   "cell_type": "code",
   "execution_count": 219,
   "metadata": {},
   "outputs": [],
   "source": [
    "def get_final_layout(categories_list, seed):\n",
    "    final = []\n",
    "    random.seed(seed)\n",
    "    for category in categories_list:\n",
    "\n",
    "        layout_proposals_per_category = []\n",
    "\n",
    "        for _ in range(10):\n",
    "            #print('propuesta', _+1)\n",
    "            for file in category:\n",
    "                left_nodes = category.copy()\n",
    "                item_index = left_nodes.index(file)\n",
    "                left_nodes.pop(item_index)\n",
    "                optimize_layout(left_nodes, [file], [], layout_proposals_per_category)\n",
    "        \n",
    "        min_layout = min(layout_proposals_per_category, key=len)\n",
    "        #print(category)\n",
    "        #print(min_layout)\n",
    "        final += min_layout\n",
    "        \n",
    "    return final"
   ]
  },
  {
   "cell_type": "code",
   "execution_count": 220,
   "metadata": {},
   "outputs": [],
   "source": [
    "def add_header(canvas_pdf, title, seed):\n",
    "    PAGE_WIDTH = 612\n",
    "    PAGE_HEIGHT = 792 - 15\n",
    "    \n",
    "    canvas_pdf.setFont(\"Helvetica-Bold\", 16)\n",
    "    canvas_pdf.drawCentredString(PAGE_WIDTH / 2, PAGE_HEIGHT-5, title.capitalize())\n",
    "\n",
    "    canvas_pdf.setLineWidth(1)\n",
    "    canvas_pdf.line(30, PAGE_HEIGHT - 10, PAGE_WIDTH - 30, PAGE_HEIGHT - 10) \n",
    "\n",
    "    canvas_pdf.setFont(\"Helvetica\", 12)\n",
    "    canvas_pdf.drawRightString(PAGE_WIDTH - 30, PAGE_HEIGHT -5, f\"Forma: {seed}\")\n",
    "\n",
    "    canvas_pdf.setFont(\"Helvetica\", 12)\n",
    "    canvas_pdf.drawRightString(PAGE_WIDTH/3, PAGE_HEIGHT -5, f\"ensayosaleatorios.streamlit.app\")"
   ]
  },
  {
   "cell_type": "code",
   "execution_count": 221,
   "metadata": {},
   "outputs": [],
   "source": [
    "def add_pdf_page(canvas_pdf, layout_page, categories_list, seed):\n",
    "    X_CENTER = 30\n",
    "    MARGIN = 25\n",
    "    for item in categories_list:\n",
    "        if item in layout_page[0]:\n",
    "                title = item\n",
    "                break\n",
    "    add_header(canvas_pdf, title, seed)\n",
    "\n",
    "    space_left = 792 - 25 - MARGIN\n",
    "    for img_route in layout_page:\n",
    "        new_width, new_height = get_resize_image(img_route)\n",
    "        canvas_pdf.drawImage(img_route, X_CENTER, space_left - new_height - 5, new_width, new_height)\n",
    "        canvas_pdf.setStrokeColorRGB(0, 0, 0)  # Color negro para el borde\n",
    "        canvas_pdf.setLineWidth(1)\n",
    "        #canvas_pdf.line(X_CENTER, space_left - new_height - 10, 612 - X_CENTER, space_left - new_height - 10) \n",
    "        #canvas_pdf.rect(X_CENTER - 5, space_left - new_height - 5, 612 - 50, new_height + 10)  # Borde con margen\n",
    "        space_left -= new_height + MARGIN        "
   ]
  },
  {
   "cell_type": "code",
   "execution_count": 222,
   "metadata": {},
   "outputs": [],
   "source": [
    "def create_pdf(layout_pages, categories_list, seed):\n",
    "    PAGE_TYPE = letter\n",
    "    output_file = 'resultado_final.pdf'\n",
    "\n",
    "    canvas_pdf = canvas.Canvas(output_file, pagesize=PAGE_TYPE)\n",
    "    for layout_page in layout_pages:\n",
    "        add_pdf_page(canvas_pdf, layout_page, categories_list, seed)\n",
    "        canvas_pdf.showPage() \n",
    "        \n",
    "    canvas_pdf.save()"
   ]
  },
  {
   "cell_type": "code",
   "execution_count": 223,
   "metadata": {},
   "outputs": [],
   "source": [
    "random_elements_per_category, categories_list, seed = get_random_elements('./matematicas',3)\n",
    "layout_pages = get_final_layout(random_elements_per_category, seed)\n",
    "create_pdf(layout_pages, categories_list, seed)"
   ]
  }
 ],
 "metadata": {
  "kernelspec": {
   "display_name": "base",
   "language": "python",
   "name": "python3"
  },
  "language_info": {
   "codemirror_mode": {
    "name": "ipython",
    "version": 3
   },
   "file_extension": ".py",
   "mimetype": "text/x-python",
   "name": "python",
   "nbconvert_exporter": "python",
   "pygments_lexer": "ipython3",
   "version": "3.12.4"
  }
 },
 "nbformat": 4,
 "nbformat_minor": 2
}
